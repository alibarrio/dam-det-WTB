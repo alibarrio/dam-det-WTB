{
 "cells": [
  {
   "cell_type": "markdown",
   "metadata": {},
   "source": [
    "# Damage detection and recognition training pipeline"
   ]
  },
  {
   "cell_type": "markdown",
   "metadata": {},
   "source": [
    "### Define run parameters\n",
    "The dataset should follow the VGGFace2/ImageNet-style directory layout. Modify data_dir to the location of the dataset on wish to finetune on."
   ]
  },
  {
   "cell_type": "code",
   "execution_count": 42,
   "metadata": {},
   "outputs": [],
   "source": [
    "#from facenet_pytorch import InceptionResnetV1, fixed_image_standardization, training\n",
    "from functions.utils import fixed_image_standardization\n",
    "from functions import training\n",
    "import torch\n",
    "from torch.utils.data import Dataset, DataLoader, SubsetRandomSampler\n",
    "from torch import optim\n",
    "from torch.optim.lr_scheduler import MultiStepLR\n",
    "from torch.utils.tensorboard import SummaryWriter\n",
    "from torchvision import datasets, transforms\n",
    "import numpy as np\n",
    "import os\n",
    "# from PIL import Image\n",
    "# import copy\n",
    "# import random\n",
    "from functions import SiameseInceptionResnetV1, siamese_dataset, pass_epoch"
   ]
  },
  {
   "cell_type": "code",
   "execution_count": 43,
   "metadata": {},
   "outputs": [],
   "source": [
    "data_dir = \"C:/Users/U339700/Documents/Palas/dataset/prueba_siamesas/crop_2class_train\"\n",
    "val_dir = \"C:/Users/U339700/Documents/Palas/dataset/prueba_siamesas/crop_2class_val\"\n",
    "model_dir = 'models/'\n",
    "\n",
    "batch_size = 32\n",
    "epochs = 8\n",
    "save_after = 1\n",
    "workers = 0 if os.name == 'nt' else 8"
   ]
  },
  {
   "cell_type": "markdown",
   "metadata": {},
   "source": [
    "### Determine if an nvidia GPU is available"
   ]
  },
  {
   "cell_type": "code",
   "execution_count": 44,
   "metadata": {},
   "outputs": [
    {
     "name": "stdout",
     "output_type": "stream",
     "text": [
      "Running on device: cpu\n"
     ]
    }
   ],
   "source": [
    "device = torch.device('cuda:0' if torch.cuda.is_available() else 'cpu')\n",
    "print('Running on device: {}'.format(device))"
   ]
  },
  {
   "cell_type": "markdown",
   "metadata": {},
   "source": [
    "### Define Inception Resnet V1 module\n",
    "See help(InceptionResnetV1) for more details."
   ]
  },
  {
   "cell_type": "markdown",
   "metadata": {},
   "source": [
    "Define dataset and dataloader"
   ]
  },
  {
   "cell_type": "code",
   "execution_count": 45,
   "metadata": {},
   "outputs": [],
   "source": [
    "trans = transforms.Compose([\n",
    "    transforms.Resize((256, 256)),\n",
    "    np.float32,\n",
    "    transforms.ToTensor(),\n",
    "    fixed_image_standardization\n",
    "])\n",
    "\n",
    "data_augm_horz = transforms.Compose([\n",
    "    transforms.Resize((256, 256)),\n",
    "    transforms.RandomHorizontalFlip(p=1),\n",
    "    np.float32,\n",
    "    transforms.ToTensor(),\n",
    "    fixed_image_standardization\n",
    "])\n",
    "\n",
    "data_augm_vert = transforms.Compose([\n",
    "    transforms.Resize((256, 256)),\n",
    "    transforms.RandomVerticalFlip(p=1),\n",
    "    transforms.ToTensor(),\n",
    "    fixed_image_standardization\n",
    "])\n",
    "\n",
    "data_augm_persp = transforms.Compose([\n",
    "    transforms.Resize((256, 256)),\n",
    "    transforms.RandomPerspective(distortion_scale=0.6, p=1.0),\n",
    "    np.float32,\n",
    "    transforms.ToTensor(),\n",
    "    fixed_image_standardization\n",
    "])\n",
    "\n",
    "data_augm_eq = transforms.Compose([\n",
    "    transforms.Resize((256, 256)),\n",
    "    transforms.RandomEqualize(p=1),\n",
    "    np.float32,\n",
    "    transforms.ToTensor(),\n",
    "    fixed_image_standardization\n",
    "])\n",
    "\n",
    "data_augm_blur = transforms.Compose([\n",
    "    transforms.Resize((256, 256)),\n",
    "    transforms.GaussianBlur(kernel_size=(5, 9), sigma=(0.1, 5)),\n",
    "    np.float32,\n",
    "    transforms.ToTensor(),\n",
    "    fixed_image_standardization\n",
    "])\n",
    "\n",
    "data_augm_horz_vert = transforms.Compose([\n",
    "    transforms.Resize((256, 256)),\n",
    "    transforms.RandomHorizontalFlip(p=1),\n",
    "    transforms.RandomVerticalFlip(p=1),\n",
    "    np.float32,\n",
    "    transforms.ToTensor(),\n",
    "    fixed_image_standardization\n",
    "])\n",
    "\n",
    "data_augm_horz_blur = transforms.Compose([\n",
    "    transforms.Resize((256, 256)),\n",
    "    transforms.RandomHorizontalFlip(p=1),\n",
    "    transforms.GaussianBlur(kernel_size=(5, 9), sigma=(0.1, 5)),\n",
    "    np.float32,\n",
    "    transforms.ToTensor(),\n",
    "    fixed_image_standardization\n",
    "])\n",
    "\n",
    "data_augm_vert_blur = transforms.Compose([\n",
    "    transforms.Resize((256, 256)),\n",
    "    transforms.RandomVerticalFlip(p=1),\n",
    "    transforms.GaussianBlur(kernel_size=(5, 9), sigma=(0.1, 5)),\n",
    "    np.float32,\n",
    "    transforms.ToTensor(),\n",
    "    fixed_image_standardization\n",
    "])\n",
    "\n",
    "data_augm_horz_vert_blur = transforms.Compose([\n",
    "    transforms.Resize((256, 256)),\n",
    "    transforms.RandomHorizontalFlip(p=1),\n",
    "    transforms.RandomVerticalFlip(p=1),\n",
    "    transforms.GaussianBlur(kernel_size=(5, 9), sigma=(0.1, 5)),\n",
    "    np.float32,\n",
    "    transforms.ToTensor(),\n",
    "    fixed_image_standardization\n",
    "])"
   ]
  },
  {
   "cell_type": "code",
   "execution_count": 46,
   "metadata": {},
   "outputs": [],
   "source": [
    "train_dataset = siamese_dataset(data_dir, shuffle_pairs=True)\n",
    "val_dataset = siamese_dataset(val_dir, shuffle_pairs=False)"
   ]
  },
  {
   "cell_type": "code",
   "execution_count": 47,
   "metadata": {},
   "outputs": [],
   "source": [
    "train_loader = DataLoader(train_dataset, batch_size=32)\n",
    "val_loader = DataLoader(val_dataset, batch_size=32)"
   ]
  },
  {
   "cell_type": "code",
   "execution_count": 48,
   "metadata": {},
   "outputs": [],
   "source": [
    "siamese = SiameseInceptionResnetV1(\n",
    "    classify=False,\n",
    "    pretrained='vggface2',\n",
    ").to(device)"
   ]
  },
  {
   "cell_type": "markdown",
   "metadata": {},
   "source": [
    "Define optimizer and scheduler"
   ]
  },
  {
   "cell_type": "code",
   "execution_count": 51,
   "metadata": {},
   "outputs": [],
   "source": [
    "optimizer = optim.Adam(siamese.parameters(), lr=0.001)\n",
    "scheduler = MultiStepLR(optimizer, [5, 10])"
   ]
  },
  {
   "cell_type": "markdown",
   "metadata": {},
   "source": [
    "### Define loss and evaluation functions"
   ]
  },
  {
   "cell_type": "code",
   "execution_count": 52,
   "metadata": {},
   "outputs": [],
   "source": [
    "# loss_fn = torch.nn.CrossEntropyLoss()\n",
    "loss_fn = torch.nn.BCELoss()\n",
    "metrics = {\n",
    "    'fps': training.BatchTimer(),\n",
    "    'acc': training.accuracy\n",
    "}"
   ]
  },
  {
   "cell_type": "markdown",
   "metadata": {},
   "source": [
    "### Train model"
   ]
  },
  {
   "cell_type": "code",
   "execution_count": 61,
   "metadata": {},
   "outputs": [
    {
     "name": "stdout",
     "output_type": "stream",
     "text": [
      "\n",
      "\n",
      "Initial\n",
      "----------\n",
      "\n",
      "Epoch 1/8\n",
      "----------\n",
      "Saving best weights\n",
      "\n",
      "Epoch 2/8\n",
      "----------\n",
      "\n",
      "Epoch 3/8\n",
      "----------\n",
      "\n",
      "Epoch 4/8\n",
      "----------\n",
      "\n",
      "Epoch 5/8\n",
      "----------\n",
      "\n",
      "Epoch 6/8\n",
      "----------\n",
      "\n",
      "Epoch 7/8\n",
      "----------\n",
      "\n",
      "Epoch 8/8\n",
      "----------\n"
     ]
    }
   ],
   "source": [
    "writer = SummaryWriter()\n",
    "writer.iteration, writer.interval = 0, 10\n",
    "best_val = 10000000\n",
    "\n",
    "print('\\n\\nInitial')\n",
    "print('-' * 10)\n",
    "siamese.eval()\n",
    "pass_epoch(\n",
    "    siamese, loss_fn, val_loader,\n",
    "    batch_metrics=metrics, show_running=True, device=device,\n",
    "    writer=writer\n",
    ")\n",
    "\n",
    "for epoch in range(epochs):\n",
    "    print('\\nEpoch {}/{}'.format(epoch + 1, epochs))\n",
    "    print('-' * 10)\n",
    "\n",
    "    # Train\n",
    "    siamese.train()\n",
    "    pass_epoch(\n",
    "        siamese, loss_fn, train_loader, optimizer, scheduler,\n",
    "        batch_metrics=metrics, show_running=True, device=device,\n",
    "        writer=writer\n",
    "    )\n",
    "\n",
    "    # Validation\n",
    "    siamese.eval()\n",
    "    answ = pass_epoch(\n",
    "        siamese, loss_fn, val_loader,\n",
    "        batch_metrics=metrics, show_running=True, device=device,\n",
    "        writer=writer\n",
    "    )\n",
    "    loss = answ[0]\n",
    "    # Save model\n",
    "    if loss < best_val:\n",
    "        best_val = loss\n",
    "        print('Saving best weights')\n",
    "        torch.save(\n",
    "            {\n",
    "                \"epoch\": epoch + 1,\n",
    "                \"model_state_dict\": siamese.state_dict(),\n",
    "                # \"backbone\": args.backbone,\n",
    "                \"optimizer_state_dict\": optimizer.state_dict()\n",
    "            },\n",
    "            os.path.join(model_dir, \"best.pth\")\n",
    "        )            \n",
    "\n",
    "    # Save model based on the frequency defined by \"args.save_after\"\n",
    "    if (epoch + 1) % 2 == 0:\n",
    "        torch.save(\n",
    "            {\n",
    "                \"epoch\": epoch + 1,\n",
    "                \"model_state_dict\": siamese.state_dict(),\n",
    "                # \"backbone\": args.backbone,\n",
    "                \"optimizer_state_dict\": optimizer.state_dict()\n",
    "            },\n",
    "            os.path.join(model_dir, \"epoch_{}.pth\".format(epoch + 1))\n",
    "        ) \n",
    "\n",
    "writer.close()"
   ]
  },
  {
   "cell_type": "code",
   "execution_count": 62,
   "metadata": {},
   "outputs": [],
   "source": [
    "torch.save(siamese, 'models/nuevo.pth')"
   ]
  }
 ],
 "metadata": {
  "colab": {
   "collapsed_sections": [],
   "name": "01-Computer_Vision_and_feature_engineering.ipynb",
   "provenance": []
  },
  "interpreter": {
   "hash": "a6d3716578bd93e5c5dcbe415e208f64cee43eed67c86e2a7b3ceb93a1cd614a"
  },
  "kernelspec": {
   "display_name": "Python 3.9.1 64-bit ('main': conda)",
   "name": "python3"
  },
  "language_info": {
   "codemirror_mode": {
    "name": "ipython",
    "version": 3
   },
   "file_extension": ".py",
   "mimetype": "text/x-python",
   "name": "python",
   "nbconvert_exporter": "python",
   "pygments_lexer": "ipython3",
   "version": "3.9.7"
  }
 },
 "nbformat": 4,
 "nbformat_minor": 2
}