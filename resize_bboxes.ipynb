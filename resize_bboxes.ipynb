{
  "cells": [
    {
      "cell_type": "markdown",
      "metadata": {},
      "source": [
        "# Crop Bounding Boxes"
      ]
    },
    {
      "cell_type": "code",
      "execution_count": 1,
      "metadata": {},
      "outputs": [],
      "source": [
        "import os\n",
        "import pandas as pd\n",
        "import numpy as np\n",
        "import cv2\n",
        "import matplotlib.pyplot as plt\n",
        "import seaborn as sns\n",
        "import os.path\n",
        "\n",
        "%matplotlib inline"
      ]
    },
    {
      "cell_type": "markdown",
      "metadata": {},
      "source": [
        "Read all images from root path and resize"
      ]
    },
    {
      "cell_type": "code",
      "execution_count": 2,
      "metadata": {},
      "outputs": [],
      "source": [
        "data_dir = \"C:/Users/U339700/Documents/Palas/dataset/siamesas\"\n",
        "save_dir = \"C:/Users/U339700/Documents/Palas/dataset/siamesas_resize\""
      ]
    },
    {
      "cell_type": "code",
      "execution_count": 27,
      "metadata": {},
      "outputs": [],
      "source": [
        "dim = []\n",
        "\n",
        "for dirpath, dirnames, filenames in os.walk(data_dir):\n",
        "    for filename in filenames:\n",
        "        if \".jpg\" in filename.lower():\n",
        "            path = [os.path.join(dirpath, filename)][0]\n",
        "            clase = path.split(sep='\\\\')[1]\n",
        "            img = cv2.imread(path)\n",
        "            s = max(img.shape[0:2])\n",
        "            if clase != 'D-0':\n",
        "                dim.append(s)\n",
        "            f = np.zeros((s,s,3),np.uint8)\n",
        "            ax,ay = (s - img.shape[1])//2,(s - img.shape[0])//2\n",
        "            f[ay:img.shape[0]+ay,ax:ax+img.shape[1]] = img\n",
        "            cv2.imwrite(save_dir + '/' + clase + '/' + filename, f)\n"
      ]
    },
    {
      "cell_type": "code",
      "execution_count": 33,
      "metadata": {},
      "outputs": [],
      "source": [
        "res = [i for i in dim if i < 1000]"
      ]
    },
    {
      "cell_type": "code",
      "execution_count": 34,
      "metadata": {},
      "outputs": [
        {
          "data": {
            "text/plain": [
              "Text(0.5, 1.0, 'dim')"
            ]
          },
          "execution_count": 34,
          "metadata": {},
          "output_type": "execute_result"
        },
        {
          "data": {
            "image/png": "[encoded data removed]",
            "text/plain": [
              "<Figure size 432x288 with 1 Axes>"
            ]
          },
          "metadata": {},
          "output_type": "display_data"
        }
      ],
      "source": [
        "sns.set_theme()\n",
        "ax = sns.boxplot(y = res, width=0.3, palette=\"Set2\")\n",
        "ax.set_title('dim', fontsize = 13)"
      ]
    }
  ],
  "metadata": {
    "colab": {
      "collapsed_sections": [],
      "name": "01-Computer_Vision_and_feature_engineering.ipynb",
      "provenance": []
    },
    "interpreter": {
      "hash": "a6d3716578bd93e5c5dcbe415e208f64cee43eed67c86e2a7b3ceb93a1cd614a"
    },
    "kernelspec": {
      "display_name": "Python 3.9.1 64-bit ('main': conda)",
      "name": "python3"
    },
    "language_info": {
      "codemirror_mode": {
        "name": "ipython",
        "version": 3
      },
      "file_extension": ".py",
      "mimetype": "text/x-python",
      "name": "python",
      "nbconvert_exporter": "python",
      "pygments_lexer": "ipython3",
      "version": "3.9.7"
    }
  },
  "nbformat": 4,
  "nbformat_minor": 2
}
